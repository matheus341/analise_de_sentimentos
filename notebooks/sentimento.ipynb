{
  "nbformat": 4,
  "nbformat_minor": 0,
  "metadata": {
    "colab": {
      "name": "sentimento.ipynb",
      "provenance": []
    },
    "kernelspec": {
      "name": "python3",
      "display_name": "Python 3"
    },
    "language_info": {
      "name": "python"
    }
  },
  "cells": [
    {
      "cell_type": "code",
      "source": [
        "import nltk\n",
        "nltk.download('vader_lexicon')"
      ],
      "metadata": {
        "colab": {
          "base_uri": "https://localhost:8080/"
        },
        "id": "yD8wJrTS-eAh",
        "outputId": "a01214f5-18bb-4a99-a6c0-7fc8e30e53c7"
      },
      "execution_count": null,
      "outputs": [
        {
          "output_type": "stream",
          "name": "stderr",
          "text": [
            "[nltk_data] Downloading package vader_lexicon to /root/nltk_data...\n",
            "[nltk_data]   Package vader_lexicon is already up-to-date!\n"
          ]
        },
        {
          "output_type": "execute_result",
          "data": {
            "text/plain": [
              "True"
            ]
          },
          "metadata": {},
          "execution_count": 36
        }
      ]
    },
    {
      "cell_type": "code",
      "execution_count": null,
      "metadata": {
        "id": "AkY4Fi3e7Ypx"
      },
      "outputs": [],
      "source": [
        "import pandas as pd\n",
        "import re\n",
        "from nltk.sentiment.vader import SentimentIntensityAnalyzer as SIA"
      ]
    },
    {
      "cell_type": "code",
      "source": [
        "candidatos = pd.read_csv('dataframe_de_candidatos_limpo.csv')"
      ],
      "metadata": {
        "id": "1e2_xtN372F1"
      },
      "execution_count": null,
      "outputs": []
    },
    {
      "cell_type": "code",
      "source": [
        "sid = SIA()"
      ],
      "metadata": {
        "id": "SR_ZL7-48Dfm"
      },
      "execution_count": null,
      "outputs": []
    },
    {
      "cell_type": "code",
      "source": [
        "candidatos['sentimento'] = candidatos['tweet_limpo'].apply(lambda i: sid.polarity_scores(' '.join(re.findall(r'\\w+', i.lower()))))"
      ],
      "metadata": {
        "id": "XtUDX-tY_ALa"
      },
      "execution_count": null,
      "outputs": []
    },
    {
      "cell_type": "code",
      "source": [
        "candidatos"
      ],
      "metadata": {
        "colab": {
          "base_uri": "https://localhost:8080/",
          "height": 815
        },
        "id": "g_jbYwDC_5R8",
        "outputId": "82e38697-345c-4d9c-84c8-8725a219d361"
      },
      "execution_count": null,
      "outputs": [
        {
          "output_type": "execute_result",
          "data": {
            "text/plain": [
              "                     data-hora                   id  \\\n",
              "0    2022-07-30 23:36:52+00:00  1553525061872746496   \n",
              "1    2022-07-30 23:36:50+00:00  1553525054947876866   \n",
              "2    2022-07-30 23:36:50+00:00  1553525054088019968   \n",
              "3    2022-07-30 23:36:50+00:00  1553525051676295168   \n",
              "4    2022-07-30 23:36:49+00:00  1553525047825993728   \n",
              "..                         ...                  ...   \n",
              "199  2022-07-30 23:55:54+00:00  1553529852850049024   \n",
              "200  2022-07-30 23:55:46+00:00  1553529820218359809   \n",
              "201  2022-07-30 23:55:45+00:00  1553529814581116929   \n",
              "202  2022-07-30 23:55:45+00:00  1553529813113217025   \n",
              "203  2022-07-30 23:55:21+00:00  1553529715255803906   \n",
              "\n",
              "                                              conteudo  candidato  \\\n",
              "0    @UOLNoticias @LulaOficial Todos técnico em rou...  bolsonaro   \n",
              "1    @LulaOficial Pena que depois meteu a mão no bo...  bolsonaro   \n",
              "2     @LulaOficial E você Lula,  precisa de cadeia !!!  bolsonaro   \n",
              "3    @rosangelamorosp Contra o Lula, contra o PT, c...  bolsonaro   \n",
              "4    @ThiagoResiste @LulaOficial @ricardostuckert É...  bolsonaro   \n",
              "..                                                 ...        ...   \n",
              "199                  A propaganda do Ciro no YouTube 😂       ciro   \n",
              "200  Ciro Nogueira é vaiado em convenção do PDT no ...       ciro   \n",
              "201  Ciro: “Gabinete de ódio do PT é um dos mais ex...       ciro   \n",
              "202  @antonp1287 El Ciro Iorio no existe, el Ciro I...       ciro   \n",
              "203  Vira vice do Ciro, monta uma casa e vai morar ...       ciro   \n",
              "\n",
              "                                           tweet_limpo  \\\n",
              "0                  todos técnico em roubalheira do pt!   \n",
              "1     pena que depois meteu a mão no bolso e no din...   \n",
              "2                  e você lula,  precisa de cadeia !!!   \n",
              "3     contra o lula, contra o pt, contra o lula kkk...   \n",
              "4                                    é lula presidente   \n",
              "..                                                 ...   \n",
              "199                  a propaganda do ciro no youtube 😂   \n",
              "200  ciro nogueira é vaiado em convenção do pdt no ...   \n",
              "201  ciro: “gabinete de ódio do pt é um dos mais ex...   \n",
              "202          el ciro iorio no existe, el ciro iorio (?   \n",
              "203  vira vice do ciro, monta uma casa e vai morar ...   \n",
              "\n",
              "                                            sentimento  \n",
              "0    {'neg': 0.0, 'neu': 1.0, 'pos': 0.0, 'compound...  \n",
              "1    {'neg': 0.253, 'neu': 0.747, 'pos': 0.0, 'comp...  \n",
              "2    {'neg': 0.0, 'neu': 1.0, 'pos': 0.0, 'compound...  \n",
              "3    {'neg': 0.0, 'neu': 1.0, 'pos': 0.0, 'compound...  \n",
              "4    {'neg': 0.0, 'neu': 1.0, 'pos': 0.0, 'compound...  \n",
              "..                                                 ...  \n",
              "199  {'neg': 0.583, 'neu': 0.417, 'pos': 0.0, 'comp...  \n",
              "200  {'neg': 0.145, 'neu': 0.855, 'pos': 0.0, 'comp...  \n",
              "201  {'neg': 0.0, 'neu': 1.0, 'pos': 0.0, 'compound...  \n",
              "202  {'neg': 0.239, 'neu': 0.761, 'pos': 0.0, 'comp...  \n",
              "203  {'neg': 0.0, 'neu': 1.0, 'pos': 0.0, 'compound...  \n",
              "\n",
              "[204 rows x 6 columns]"
            ],
            "text/html": [
              "\n",
              "  <div id=\"df-e746c278-eb26-48d5-b383-285a48d9eebd\">\n",
              "    <div class=\"colab-df-container\">\n",
              "      <div>\n",
              "<style scoped>\n",
              "    .dataframe tbody tr th:only-of-type {\n",
              "        vertical-align: middle;\n",
              "    }\n",
              "\n",
              "    .dataframe tbody tr th {\n",
              "        vertical-align: top;\n",
              "    }\n",
              "\n",
              "    .dataframe thead th {\n",
              "        text-align: right;\n",
              "    }\n",
              "</style>\n",
              "<table border=\"1\" class=\"dataframe\">\n",
              "  <thead>\n",
              "    <tr style=\"text-align: right;\">\n",
              "      <th></th>\n",
              "      <th>data-hora</th>\n",
              "      <th>id</th>\n",
              "      <th>conteudo</th>\n",
              "      <th>candidato</th>\n",
              "      <th>tweet_limpo</th>\n",
              "      <th>sentimento</th>\n",
              "    </tr>\n",
              "  </thead>\n",
              "  <tbody>\n",
              "    <tr>\n",
              "      <th>0</th>\n",
              "      <td>2022-07-30 23:36:52+00:00</td>\n",
              "      <td>1553525061872746496</td>\n",
              "      <td>@UOLNoticias @LulaOficial Todos técnico em rou...</td>\n",
              "      <td>bolsonaro</td>\n",
              "      <td>todos técnico em roubalheira do pt!</td>\n",
              "      <td>{'neg': 0.0, 'neu': 1.0, 'pos': 0.0, 'compound...</td>\n",
              "    </tr>\n",
              "    <tr>\n",
              "      <th>1</th>\n",
              "      <td>2022-07-30 23:36:50+00:00</td>\n",
              "      <td>1553525054947876866</td>\n",
              "      <td>@LulaOficial Pena que depois meteu a mão no bo...</td>\n",
              "      <td>bolsonaro</td>\n",
              "      <td>pena que depois meteu a mão no bolso e no din...</td>\n",
              "      <td>{'neg': 0.253, 'neu': 0.747, 'pos': 0.0, 'comp...</td>\n",
              "    </tr>\n",
              "    <tr>\n",
              "      <th>2</th>\n",
              "      <td>2022-07-30 23:36:50+00:00</td>\n",
              "      <td>1553525054088019968</td>\n",
              "      <td>@LulaOficial E você Lula,  precisa de cadeia !!!</td>\n",
              "      <td>bolsonaro</td>\n",
              "      <td>e você lula,  precisa de cadeia !!!</td>\n",
              "      <td>{'neg': 0.0, 'neu': 1.0, 'pos': 0.0, 'compound...</td>\n",
              "    </tr>\n",
              "    <tr>\n",
              "      <th>3</th>\n",
              "      <td>2022-07-30 23:36:50+00:00</td>\n",
              "      <td>1553525051676295168</td>\n",
              "      <td>@rosangelamorosp Contra o Lula, contra o PT, c...</td>\n",
              "      <td>bolsonaro</td>\n",
              "      <td>contra o lula, contra o pt, contra o lula kkk...</td>\n",
              "      <td>{'neg': 0.0, 'neu': 1.0, 'pos': 0.0, 'compound...</td>\n",
              "    </tr>\n",
              "    <tr>\n",
              "      <th>4</th>\n",
              "      <td>2022-07-30 23:36:49+00:00</td>\n",
              "      <td>1553525047825993728</td>\n",
              "      <td>@ThiagoResiste @LulaOficial @ricardostuckert É...</td>\n",
              "      <td>bolsonaro</td>\n",
              "      <td>é lula presidente</td>\n",
              "      <td>{'neg': 0.0, 'neu': 1.0, 'pos': 0.0, 'compound...</td>\n",
              "    </tr>\n",
              "    <tr>\n",
              "      <th>...</th>\n",
              "      <td>...</td>\n",
              "      <td>...</td>\n",
              "      <td>...</td>\n",
              "      <td>...</td>\n",
              "      <td>...</td>\n",
              "      <td>...</td>\n",
              "    </tr>\n",
              "    <tr>\n",
              "      <th>199</th>\n",
              "      <td>2022-07-30 23:55:54+00:00</td>\n",
              "      <td>1553529852850049024</td>\n",
              "      <td>A propaganda do Ciro no YouTube 😂</td>\n",
              "      <td>ciro</td>\n",
              "      <td>a propaganda do ciro no youtube 😂</td>\n",
              "      <td>{'neg': 0.583, 'neu': 0.417, 'pos': 0.0, 'comp...</td>\n",
              "    </tr>\n",
              "    <tr>\n",
              "      <th>200</th>\n",
              "      <td>2022-07-30 23:55:46+00:00</td>\n",
              "      <td>1553529820218359809</td>\n",
              "      <td>Ciro Nogueira é vaiado em convenção do PDT no ...</td>\n",
              "      <td>ciro</td>\n",
              "      <td>ciro nogueira é vaiado em convenção do pdt no ...</td>\n",
              "      <td>{'neg': 0.145, 'neu': 0.855, 'pos': 0.0, 'comp...</td>\n",
              "    </tr>\n",
              "    <tr>\n",
              "      <th>201</th>\n",
              "      <td>2022-07-30 23:55:45+00:00</td>\n",
              "      <td>1553529814581116929</td>\n",
              "      <td>Ciro: “Gabinete de ódio do PT é um dos mais ex...</td>\n",
              "      <td>ciro</td>\n",
              "      <td>ciro: “gabinete de ódio do pt é um dos mais ex...</td>\n",
              "      <td>{'neg': 0.0, 'neu': 1.0, 'pos': 0.0, 'compound...</td>\n",
              "    </tr>\n",
              "    <tr>\n",
              "      <th>202</th>\n",
              "      <td>2022-07-30 23:55:45+00:00</td>\n",
              "      <td>1553529813113217025</td>\n",
              "      <td>@antonp1287 El Ciro Iorio no existe, el Ciro I...</td>\n",
              "      <td>ciro</td>\n",
              "      <td>el ciro iorio no existe, el ciro iorio (?</td>\n",
              "      <td>{'neg': 0.239, 'neu': 0.761, 'pos': 0.0, 'comp...</td>\n",
              "    </tr>\n",
              "    <tr>\n",
              "      <th>203</th>\n",
              "      <td>2022-07-30 23:55:21+00:00</td>\n",
              "      <td>1553529715255803906</td>\n",
              "      <td>Vira vice do Ciro, monta uma casa e vai morar ...</td>\n",
              "      <td>ciro</td>\n",
              "      <td>vira vice do ciro, monta uma casa e vai morar ...</td>\n",
              "      <td>{'neg': 0.0, 'neu': 1.0, 'pos': 0.0, 'compound...</td>\n",
              "    </tr>\n",
              "  </tbody>\n",
              "</table>\n",
              "<p>204 rows × 6 columns</p>\n",
              "</div>\n",
              "      <button class=\"colab-df-convert\" onclick=\"convertToInteractive('df-e746c278-eb26-48d5-b383-285a48d9eebd')\"\n",
              "              title=\"Convert this dataframe to an interactive table.\"\n",
              "              style=\"display:none;\">\n",
              "        \n",
              "  <svg xmlns=\"http://www.w3.org/2000/svg\" height=\"24px\"viewBox=\"0 0 24 24\"\n",
              "       width=\"24px\">\n",
              "    <path d=\"M0 0h24v24H0V0z\" fill=\"none\"/>\n",
              "    <path d=\"M18.56 5.44l.94 2.06.94-2.06 2.06-.94-2.06-.94-.94-2.06-.94 2.06-2.06.94zm-11 1L8.5 8.5l.94-2.06 2.06-.94-2.06-.94L8.5 2.5l-.94 2.06-2.06.94zm10 10l.94 2.06.94-2.06 2.06-.94-2.06-.94-.94-2.06-.94 2.06-2.06.94z\"/><path d=\"M17.41 7.96l-1.37-1.37c-.4-.4-.92-.59-1.43-.59-.52 0-1.04.2-1.43.59L10.3 9.45l-7.72 7.72c-.78.78-.78 2.05 0 2.83L4 21.41c.39.39.9.59 1.41.59.51 0 1.02-.2 1.41-.59l7.78-7.78 2.81-2.81c.8-.78.8-2.07 0-2.86zM5.41 20L4 18.59l7.72-7.72 1.47 1.35L5.41 20z\"/>\n",
              "  </svg>\n",
              "      </button>\n",
              "      \n",
              "  <style>\n",
              "    .colab-df-container {\n",
              "      display:flex;\n",
              "      flex-wrap:wrap;\n",
              "      gap: 12px;\n",
              "    }\n",
              "\n",
              "    .colab-df-convert {\n",
              "      background-color: #E8F0FE;\n",
              "      border: none;\n",
              "      border-radius: 50%;\n",
              "      cursor: pointer;\n",
              "      display: none;\n",
              "      fill: #1967D2;\n",
              "      height: 32px;\n",
              "      padding: 0 0 0 0;\n",
              "      width: 32px;\n",
              "    }\n",
              "\n",
              "    .colab-df-convert:hover {\n",
              "      background-color: #E2EBFA;\n",
              "      box-shadow: 0px 1px 2px rgba(60, 64, 67, 0.3), 0px 1px 3px 1px rgba(60, 64, 67, 0.15);\n",
              "      fill: #174EA6;\n",
              "    }\n",
              "\n",
              "    [theme=dark] .colab-df-convert {\n",
              "      background-color: #3B4455;\n",
              "      fill: #D2E3FC;\n",
              "    }\n",
              "\n",
              "    [theme=dark] .colab-df-convert:hover {\n",
              "      background-color: #434B5C;\n",
              "      box-shadow: 0px 1px 3px 1px rgba(0, 0, 0, 0.15);\n",
              "      filter: drop-shadow(0px 1px 2px rgba(0, 0, 0, 0.3));\n",
              "      fill: #FFFFFF;\n",
              "    }\n",
              "  </style>\n",
              "\n",
              "      <script>\n",
              "        const buttonEl =\n",
              "          document.querySelector('#df-e746c278-eb26-48d5-b383-285a48d9eebd button.colab-df-convert');\n",
              "        buttonEl.style.display =\n",
              "          google.colab.kernel.accessAllowed ? 'block' : 'none';\n",
              "\n",
              "        async function convertToInteractive(key) {\n",
              "          const element = document.querySelector('#df-e746c278-eb26-48d5-b383-285a48d9eebd');\n",
              "          const dataTable =\n",
              "            await google.colab.kernel.invokeFunction('convertToInteractive',\n",
              "                                                     [key], {});\n",
              "          if (!dataTable) return;\n",
              "\n",
              "          const docLinkHtml = 'Like what you see? Visit the ' +\n",
              "            '<a target=\"_blank\" href=https://colab.research.google.com/notebooks/data_table.ipynb>data table notebook</a>'\n",
              "            + ' to learn more about interactive tables.';\n",
              "          element.innerHTML = '';\n",
              "          dataTable['output_type'] = 'display_data';\n",
              "          await google.colab.output.renderOutput(dataTable, element);\n",
              "          const docLink = document.createElement('div');\n",
              "          docLink.innerHTML = docLinkHtml;\n",
              "          element.appendChild(docLink);\n",
              "        }\n",
              "      </script>\n",
              "    </div>\n",
              "  </div>\n",
              "  "
            ]
          },
          "metadata": {},
          "execution_count": 50
        }
      ]
    },
    {
      "cell_type": "code",
      "source": [
        ""
      ],
      "metadata": {
        "id": "h1Nqbe2xCMu2"
      },
      "execution_count": null,
      "outputs": []
    }
  ]
}
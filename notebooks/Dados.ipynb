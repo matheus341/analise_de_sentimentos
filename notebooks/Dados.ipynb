{
  "nbformat": 4,
  "nbformat_minor": 0,
  "metadata": {
    "colab": {
      "name": "Dados.ipynb",
      "provenance": []
    },
    "kernelspec": {
      "name": "python3",
      "display_name": "Python 3"
    },
    "language_info": {
      "name": "python"
    }
  },
  "cells": [
    {
      "cell_type": "markdown",
      "source": [
        "análise de sentimentos de candidatos a presidencia"
      ],
      "metadata": {
        "id": "1z9KjnZS9IaV"
      }
    },
    {
      "cell_type": "markdown",
      "source": [
        "instalação de bibliotecas\n"
      ],
      "metadata": {
        "id": "ce-v_dm9Bcr8"
      }
    },
    {
      "cell_type": "code",
      "execution_count": null,
      "metadata": {
        "colab": {
          "base_uri": "https://localhost:8080/"
        },
        "id": "JpGaZbtq9GEA",
        "outputId": "c92c2f1e-8b37-481d-e80f-e033212a319c"
      },
      "outputs": [
        {
          "output_type": "stream",
          "name": "stdout",
          "text": [
            "Looking in indexes: https://pypi.org/simple, https://us-python.pkg.dev/colab-wheels/public/simple/\n",
            "Requirement already satisfied: snscrape in /usr/local/lib/python3.7/dist-packages (0.3.4)\n",
            "Requirement already satisfied: beautifulsoup4 in /usr/local/lib/python3.7/dist-packages (from snscrape) (4.6.3)\n",
            "Requirement already satisfied: lxml in /usr/local/lib/python3.7/dist-packages (from snscrape) (4.2.6)\n",
            "Requirement already satisfied: requests[socks] in /usr/local/lib/python3.7/dist-packages (from snscrape) (2.23.0)\n",
            "Requirement already satisfied: idna<3,>=2.5 in /usr/local/lib/python3.7/dist-packages (from requests[socks]->snscrape) (2.10)\n",
            "Requirement already satisfied: urllib3!=1.25.0,!=1.25.1,<1.26,>=1.21.1 in /usr/local/lib/python3.7/dist-packages (from requests[socks]->snscrape) (1.24.3)\n",
            "Requirement already satisfied: certifi>=2017.4.17 in /usr/local/lib/python3.7/dist-packages (from requests[socks]->snscrape) (2022.6.15)\n",
            "Requirement already satisfied: chardet<4,>=3.0.2 in /usr/local/lib/python3.7/dist-packages (from requests[socks]->snscrape) (3.0.4)\n",
            "Requirement already satisfied: PySocks!=1.5.7,>=1.5.6 in /usr/local/lib/python3.7/dist-packages (from requests[socks]->snscrape) (1.7.1)\n"
          ]
        }
      ],
      "source": [
        "pip install snscrape"
      ]
    },
    {
      "cell_type": "code",
      "source": [
        "import snscrape.modules.twitter as sntwitter\n",
        "import pandas as pd\n"
      ],
      "metadata": {
        "id": "0eVZhbvDEUti"
      },
      "execution_count": null,
      "outputs": []
    },
    {
      "cell_type": "code",
      "source": [
        "maximo_de_tuites = 50"
      ],
      "metadata": {
        "id": "QajxubMwV4Gn"
      },
      "execution_count": null,
      "outputs": []
    },
    {
      "cell_type": "code",
      "source": [
        "tuites_lula = []\n",
        "tuites_bolso = []\n",
        "tuites_ciro = []"
      ],
      "metadata": {
        "id": "PHa3uT4iV8OF"
      },
      "execution_count": null,
      "outputs": []
    },
    {
      "cell_type": "code",
      "source": [
        "for i, tweet in enumerate(sntwitter.TwitterSearchScraper(['bolsonaro']).get_items()):\n",
        "  if i > maximo_de_tuites:\n",
        "    break\n",
        "  tuites_bolso.append([tweet.date, tweet.id, tweet.content]) \n",
        "for i, tweet in enumerate(sntwitter.TwitterSearchScraper(['lula']).get_items()):\n",
        "  if i > maximo_de_tuites:\n",
        "    break\n",
        "  tuites_lula.append([tweet.date, tweet.id, tweet.content])\n",
        "for i, tweet in enumerate(sntwitter.TwitterSearchScraper(['ciro']).get_items()):\n",
        "  if i > maximo_de_tuites:\n",
        "    break\n",
        "  tuites_ciro.append([tweet.date, tweet.id, tweet.content]) "
      ],
      "metadata": {
        "id": "d-EljEU_Z0mE"
      },
      "execution_count": null,
      "outputs": []
    },
    {
      "cell_type": "code",
      "source": [
        "df_bolso = pd.DataFrame(tuites_bolso, columns=['data-hora','id','conteudo'])\n",
        "df_lula = pd.DataFrame(tuites_lula, columns=['data-hora','id','conteudo'])\n",
        "df_ciro = pd.DataFrame(tuites_ciro, columns=['data-hora','id','conteudo'])"
      ],
      "metadata": {
        "id": "lAkyIHhVciCL"
      },
      "execution_count": null,
      "outputs": []
    },
    {
      "cell_type": "markdown",
      "source": [
        ""
      ],
      "metadata": {
        "id": "y93fk6aZ9HUf"
      }
    },
    {
      "cell_type": "code",
      "source": [
        "df_bolso['candidato'] = 'bolsonaro'\n",
        "df_lula['candidato'] = 'lula'\n",
        "df_ciro['candidato'] = 'ciro'"
      ],
      "metadata": {
        "id": "8SDxLJHDjpjL"
      },
      "execution_count": null,
      "outputs": []
    },
    {
      "cell_type": "code",
      "source": [
        "df_final = pd.concat([df_bolso,df_lula,df_ciro], axis = 0)"
      ],
      "metadata": {
        "id": "iBSsQOQfj4Ii"
      },
      "execution_count": null,
      "outputs": []
    },
    {
      "cell_type": "code",
      "source": [
        "df_final['candidato'].unique()"
      ],
      "metadata": {
        "colab": {
          "base_uri": "https://localhost:8080/"
        },
        "id": "sv453YtTlQV6",
        "outputId": "26987096-86f5-427c-b09c-522c9bed9f63"
      },
      "execution_count": null,
      "outputs": [
        {
          "output_type": "execute_result",
          "data": {
            "text/plain": [
              "array(['bolsonaro', 'lula', 'ciro'], dtype=object)"
            ]
          },
          "metadata": {},
          "execution_count": 35
        }
      ]
    },
    {
      "cell_type": "code",
      "source": [
        "df_final.to_csv('dataframe_de_candidatos.csv', sep =',', index = False)"
      ],
      "metadata": {
        "id": "L-UgD9t_lwnQ"
      },
      "execution_count": null,
      "outputs": []
    },
    {
      "cell_type": "code",
      "source": [
        ""
      ],
      "metadata": {
        "id": "1k0zpocdl_Mt"
      },
      "execution_count": null,
      "outputs": []
    }
  ]
}
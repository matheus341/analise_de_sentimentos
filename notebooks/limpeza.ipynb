{
  "nbformat": 4,
  "nbformat_minor": 0,
  "metadata": {
    "colab": {
      "name": "limpeza.ipynb",
      "provenance": []
    },
    "kernelspec": {
      "name": "python3",
      "display_name": "Python 3"
    },
    "language_info": {
      "name": "python"
    }
  },
  "cells": [
    {
      "cell_type": "code",
      "execution_count": null,
      "metadata": {
        "id": "3ebqbXD5sA69"
      },
      "outputs": [],
      "source": [
        "import pandas as pd\n",
        "import re"
      ]
    },
    {
      "cell_type": "code",
      "source": [
        "candidatos = pd.read_csv('dataframe_de_candidatos.csv')"
      ],
      "metadata": {
        "id": "K2UuQ1c4sJ5B"
      },
      "execution_count": null,
      "outputs": []
    },
    {
      "cell_type": "code",
      "source": [
        "def limpeza_de_texto(conteudo):\n",
        "  conteudo = conteudo.lower()\n",
        "  conteudo = re.sub('\\n', '', conteudo)\n",
        "  conteudo = re.sub('@[^\\s]+', '', conteudo)\n",
        "  conteudo = re.sub('\\B#\\S+', '', conteudo)\n",
        "  conteudo = re.sub('https?://\\S+|www\\.\\S+', '', conteudo)\n",
        "  return conteudo "
      ],
      "metadata": {
        "id": "G36W3IBrtYJa"
      },
      "execution_count": null,
      "outputs": []
    },
    {
      "cell_type": "code",
      "source": [
        "candidatos['tweet_limpo'] = candidatos['conteudo'].apply(lambda i:limpeza_de_texto(i))\n"
      ],
      "metadata": {
        "id": "D-5lnGgtsQjT"
      },
      "execution_count": null,
      "outputs": []
    },
    {
      "cell_type": "code",
      "source": [
        "candidatos.to_csv('dataframe_de_candidatos_limpo.csv', sep =',', index = False)"
      ],
      "metadata": {
        "id": "I4eN7uGt4Ic8"
      },
      "execution_count": null,
      "outputs": []
    },
    {
      "cell_type": "code",
      "source": [
        ""
      ],
      "metadata": {
        "id": "CUABgymh7CMR"
      },
      "execution_count": null,
      "outputs": []
    }
  ]
}